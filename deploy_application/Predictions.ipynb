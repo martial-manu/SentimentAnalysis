{
 "cells": [
  {
   "cell_type": "code",
   "execution_count": 10,
   "id": "e595cba3",
   "metadata": {},
   "outputs": [],
   "source": [
    "import numpy as np\n",
    "import joblib\n",
    "from tensorflow.keras.models import load_model\n",
    "from tensorflow.keras.preprocessing.sequence import pad_sequences"
   ]
  },
  {
   "cell_type": "code",
   "execution_count": 11,
   "id": "dfba14a8",
   "metadata": {},
   "outputs": [],
   "source": [
    "model = load_model('./model/sentiment')\n",
    "maxlen = 50"
   ]
  },
  {
   "cell_type": "code",
   "execution_count": 16,
   "id": "cd7d4839",
   "metadata": {},
   "outputs": [],
   "source": [
    "def predict(sentence , model1):\n",
    "    ip = []\n",
    "    word_to_idx = joblib.load('word_to_idx.pkl')\n",
    "    doom = sentence.split()\n",
    "    print(doom)\n",
    "    for j in range(len(doom)):\n",
    "        if word_to_idx.get(doom[j]) is None:\n",
    "            pass\n",
    "        else :\n",
    "            ip.append(word_to_idx[doom[j]])\n",
    "    ip = pad_sequences([ip] , maxlen= maxlen , padding = 'post' , truncating = 'post')\n",
    "    \n",
    "    print(ip)\n",
    "    ans = model1.predict(ip)\n",
    "    print(ans)\n",
    "    res = np.argmax(ans)\n",
    "    op = [\"Positive :)\" , \"Negative :(\"]\n",
    "    return op[res]"
   ]
  },
  {
   "cell_type": "code",
   "execution_count": 21,
   "id": "4e215710",
   "metadata": {},
   "outputs": [
    {
     "name": "stdout",
     "output_type": "stream",
     "text": [
      "['good', 'but', 'was', 'stop']\n",
      "[[321  46 459 174   0   0   0   0   0   0   0   0   0   0   0   0   0   0\n",
      "    0   0   0   0   0   0   0   0   0   0   0   0   0   0   0   0   0   0\n",
      "    0   0   0   0   0   0   0   0   0   0   0   0   0   0]]\n",
      "[[0.2677474 0.7322526]]\n"
     ]
    },
    {
     "data": {
      "text/plain": [
       "'Negative :('"
      ]
     },
     "execution_count": 21,
     "metadata": {},
     "output_type": "execute_result"
    }
   ],
   "source": [
    "predict(\"good but was stop\" , model)"
   ]
  },
  {
   "cell_type": "code",
   "execution_count": null,
   "id": "364e3058",
   "metadata": {},
   "outputs": [],
   "source": []
  }
 ],
 "metadata": {
  "kernelspec": {
   "display_name": "Python 3 (ipykernel)",
   "language": "python",
   "name": "python3"
  },
  "language_info": {
   "codemirror_mode": {
    "name": "ipython",
    "version": 3
   },
   "file_extension": ".py",
   "mimetype": "text/x-python",
   "name": "python",
   "nbconvert_exporter": "python",
   "pygments_lexer": "ipython3",
   "version": "3.9.7"
  }
 },
 "nbformat": 4,
 "nbformat_minor": 5
}
